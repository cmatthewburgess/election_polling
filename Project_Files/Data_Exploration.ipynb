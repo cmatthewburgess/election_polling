{
 "cells": [
  {
   "cell_type": "markdown",
   "metadata": {},
   "source": [
    "# Data Cleaning, Exploration, and Analysis: Predicting Election Poll Error"
   ]
  },
  {
   "cell_type": "markdown",
   "metadata": {},
   "source": [
    "Matthew Burgess, Springboard Data Science Career Track Capstone Project 1"
   ]
  },
  {
   "cell_type": "markdown",
   "metadata": {},
   "source": [
    "## Introduction"
   ]
  },
  {
   "cell_type": "markdown",
   "metadata": {},
   "source": [
    "In Presidential, Senatorial, and Congressional elections across the United States, all campaigns and media outlets rely on polling. Exit polls help determine decisions on election day. Polls of Iowa in presidential primaries help determine the front-runner for a given race. But how often do these polls reflect the actual outcome of elections? More importantly, how wrong are they? My goal is to create a model that predicts the error of a poll from the actual result.\n",
    "\n",
    "I plan on using data from the data news site FiveThirtyEight on polls. It is roughly 10000 rows by 25 columns from polls since 1998. It not only includes data of polls of race by party, but also the year, partisan lean of both the pollster and the district, and real percentage of votes obtained by a candidate.\n",
    "\n",
    "Being able to reliably predict the percent error on a poll is arguably one of the single most important things for political campaigns. In knowing the error, polls can be determined as reliable or not, and percent error can be used to make key choices about the campaign moving forward.\n",
    "\n"
   ]
  },
  {
   "cell_type": "markdown",
   "metadata": {},
   "source": [
    "## Data Wrangling and Cleaning"
   ]
  },
  {
   "cell_type": "markdown",
   "metadata": {},
   "source": [
    "Import Relevant Packages and Data"
   ]
  },
  {
   "cell_type": "code",
   "execution_count": 2,
   "metadata": {},
   "outputs": [],
   "source": [
    "import numpy as np\n",
    "import pandas as pd\n",
    "import scipy.stats as stats\n",
    "import matplotlib.pyplot as plt\n",
    "import seaborn as sns"
   ]
  },
  {
   "cell_type": "code",
   "execution_count": 3,
   "metadata": {},
   "outputs": [
    {
     "data": {
      "text/html": [
       "<div>\n",
       "<style scoped>\n",
       "    .dataframe tbody tr th:only-of-type {\n",
       "        vertical-align: middle;\n",
       "    }\n",
       "\n",
       "    .dataframe tbody tr th {\n",
       "        vertical-align: top;\n",
       "    }\n",
       "\n",
       "    .dataframe thead th {\n",
       "        text-align: right;\n",
       "    }\n",
       "</style>\n",
       "<table border=\"1\" class=\"dataframe\">\n",
       "  <thead>\n",
       "    <tr style=\"text-align: right;\">\n",
       "      <th></th>\n",
       "      <th>pollno</th>\n",
       "      <th>race</th>\n",
       "      <th>year</th>\n",
       "      <th>location</th>\n",
       "      <th>type_simple</th>\n",
       "      <th>pollster</th>\n",
       "      <th>polldate</th>\n",
       "      <th>samplesize</th>\n",
       "      <th>cand1_name</th>\n",
       "      <th>cand1_pct</th>\n",
       "      <th>...</th>\n",
       "      <th>cand3_pct</th>\n",
       "      <th>margin_poll</th>\n",
       "      <th>electiondate</th>\n",
       "      <th>cand1_actual</th>\n",
       "      <th>cand2_actual</th>\n",
       "      <th>margin_actual</th>\n",
       "      <th>error</th>\n",
       "      <th>bias</th>\n",
       "      <th>rightcall</th>\n",
       "      <th>partisan</th>\n",
       "    </tr>\n",
       "  </thead>\n",
       "  <tbody>\n",
       "    <tr>\n",
       "      <th>0</th>\n",
       "      <td>87909</td>\n",
       "      <td>1998_Gov-G_NY</td>\n",
       "      <td>1998</td>\n",
       "      <td>NY</td>\n",
       "      <td>Gov-G</td>\n",
       "      <td>Blum &amp; Weprin Associates</td>\n",
       "      <td>10/13/98</td>\n",
       "      <td>364.0</td>\n",
       "      <td>Democrat</td>\n",
       "      <td>26.0</td>\n",
       "      <td>...</td>\n",
       "      <td>9.0</td>\n",
       "      <td>-31.0</td>\n",
       "      <td>11/3/98</td>\n",
       "      <td>33.20</td>\n",
       "      <td>54.30</td>\n",
       "      <td>-21.10</td>\n",
       "      <td>9.90</td>\n",
       "      <td>-9.90</td>\n",
       "      <td>1.0</td>\n",
       "      <td>NaN</td>\n",
       "    </tr>\n",
       "    <tr>\n",
       "      <th>1</th>\n",
       "      <td>87926</td>\n",
       "      <td>1998_Gov-G_OH</td>\n",
       "      <td>1998</td>\n",
       "      <td>OH</td>\n",
       "      <td>Gov-G</td>\n",
       "      <td>University of Cincinnati (Ohio Poll)</td>\n",
       "      <td>10/13/98</td>\n",
       "      <td>540.0</td>\n",
       "      <td>Democrat</td>\n",
       "      <td>37.0</td>\n",
       "      <td>...</td>\n",
       "      <td>NaN</td>\n",
       "      <td>-15.0</td>\n",
       "      <td>11/3/98</td>\n",
       "      <td>44.70</td>\n",
       "      <td>50.10</td>\n",
       "      <td>-5.40</td>\n",
       "      <td>9.60</td>\n",
       "      <td>-9.60</td>\n",
       "      <td>1.0</td>\n",
       "      <td>NaN</td>\n",
       "    </tr>\n",
       "    <tr>\n",
       "      <th>2</th>\n",
       "      <td>5380001</td>\n",
       "      <td>1998_House-G_ID-1</td>\n",
       "      <td>1998</td>\n",
       "      <td>ID-1</td>\n",
       "      <td>House-G</td>\n",
       "      <td>Garin-Hart-Yang Research Group</td>\n",
       "      <td>10/13/98</td>\n",
       "      <td>372.0</td>\n",
       "      <td>Democrat</td>\n",
       "      <td>44.0</td>\n",
       "      <td>...</td>\n",
       "      <td>NaN</td>\n",
       "      <td>2.0</td>\n",
       "      <td>11/3/98</td>\n",
       "      <td>44.73</td>\n",
       "      <td>55.27</td>\n",
       "      <td>-10.54</td>\n",
       "      <td>12.54</td>\n",
       "      <td>12.54</td>\n",
       "      <td>0.0</td>\n",
       "      <td>D</td>\n",
       "    </tr>\n",
       "    <tr>\n",
       "      <th>3</th>\n",
       "      <td>5380002</td>\n",
       "      <td>1998_House-G_ID-2</td>\n",
       "      <td>1998</td>\n",
       "      <td>ID-2</td>\n",
       "      <td>House-G</td>\n",
       "      <td>Garin-Hart-Yang Research Group</td>\n",
       "      <td>10/13/98</td>\n",
       "      <td>400.0</td>\n",
       "      <td>Democrat</td>\n",
       "      <td>42.0</td>\n",
       "      <td>...</td>\n",
       "      <td>NaN</td>\n",
       "      <td>6.0</td>\n",
       "      <td>11/3/98</td>\n",
       "      <td>44.69</td>\n",
       "      <td>52.51</td>\n",
       "      <td>-7.82</td>\n",
       "      <td>13.82</td>\n",
       "      <td>13.82</td>\n",
       "      <td>0.0</td>\n",
       "      <td>D</td>\n",
       "    </tr>\n",
       "    <tr>\n",
       "      <th>4</th>\n",
       "      <td>5380003</td>\n",
       "      <td>1998_House-G_US</td>\n",
       "      <td>1998</td>\n",
       "      <td>US</td>\n",
       "      <td>House-G</td>\n",
       "      <td>Zogby Interactive/JZ Analytics</td>\n",
       "      <td>10/13/98</td>\n",
       "      <td>864.0</td>\n",
       "      <td>Democrat</td>\n",
       "      <td>39.0</td>\n",
       "      <td>...</td>\n",
       "      <td>NaN</td>\n",
       "      <td>3.0</td>\n",
       "      <td>11/3/98</td>\n",
       "      <td>46.42</td>\n",
       "      <td>47.99</td>\n",
       "      <td>-1.57</td>\n",
       "      <td>4.57</td>\n",
       "      <td>4.57</td>\n",
       "      <td>0.0</td>\n",
       "      <td>NaN</td>\n",
       "    </tr>\n",
       "  </tbody>\n",
       "</table>\n",
       "<p>5 rows × 22 columns</p>\n",
       "</div>"
      ],
      "text/plain": [
       "    pollno               race  year location type_simple  \\\n",
       "0    87909      1998_Gov-G_NY  1998       NY       Gov-G   \n",
       "1    87926      1998_Gov-G_OH  1998       OH       Gov-G   \n",
       "2  5380001  1998_House-G_ID-1  1998     ID-1     House-G   \n",
       "3  5380002  1998_House-G_ID-2  1998     ID-2     House-G   \n",
       "4  5380003    1998_House-G_US  1998       US     House-G   \n",
       "\n",
       "                               pollster  polldate  samplesize cand1_name  \\\n",
       "0              Blum & Weprin Associates  10/13/98       364.0   Democrat   \n",
       "1  University of Cincinnati (Ohio Poll)  10/13/98       540.0   Democrat   \n",
       "2        Garin-Hart-Yang Research Group  10/13/98       372.0   Democrat   \n",
       "3        Garin-Hart-Yang Research Group  10/13/98       400.0   Democrat   \n",
       "4        Zogby Interactive/JZ Analytics  10/13/98       864.0   Democrat   \n",
       "\n",
       "   cand1_pct  ... cand3_pct  margin_poll  electiondate  cand1_actual  \\\n",
       "0       26.0  ...       9.0        -31.0       11/3/98         33.20   \n",
       "1       37.0  ...       NaN        -15.0       11/3/98         44.70   \n",
       "2       44.0  ...       NaN          2.0       11/3/98         44.73   \n",
       "3       42.0  ...       NaN          6.0       11/3/98         44.69   \n",
       "4       39.0  ...       NaN          3.0       11/3/98         46.42   \n",
       "\n",
       "  cand2_actual  margin_actual  error   bias  rightcall  partisan  \n",
       "0        54.30         -21.10   9.90  -9.90        1.0       NaN  \n",
       "1        50.10          -5.40   9.60  -9.60        1.0       NaN  \n",
       "2        55.27         -10.54  12.54  12.54        0.0         D  \n",
       "3        52.51          -7.82  13.82  13.82        0.0         D  \n",
       "4        47.99          -1.57   4.57   4.57        0.0       NaN  \n",
       "\n",
       "[5 rows x 22 columns]"
      ]
     },
     "execution_count": 3,
     "metadata": {},
     "output_type": "execute_result"
    }
   ],
   "source": [
    "polls = pd.read_csv('fivethirtyeight_rawpolls.csv')\n",
    "polls.head()"
   ]
  },
  {
   "cell_type": "code",
   "execution_count": 4,
   "metadata": {},
   "outputs": [
    {
     "data": {
      "text/plain": [
       "(9132, 22)"
      ]
     },
     "execution_count": 4,
     "metadata": {},
     "output_type": "execute_result"
    }
   ],
   "source": [
    "polls.shape"
   ]
  },
  {
   "cell_type": "markdown",
   "metadata": {},
   "source": [
    "# I. Cleaning the Data"
   ]
  },
  {
   "cell_type": "markdown",
   "metadata": {},
   "source": [
    "Here are the descriptions of columns as described directly Fivethirtyeight\n",
    "\n",
    "\n",
    "<b> pollno: </b>\tFiveThirtyEight poll ID number\n",
    "\n",
    "<b> race: </b>\tElection polled\n",
    "\n",
    "<b> year: </b>\tYear of election (not year of poll)\n",
    "\n",
    "<b> location: </b>\tLocation (state or Congressional district, or \"US\" for national polls)\n",
    "\n",
    "<b> type_simple: </b>\tType of election (5 categories, Gov-G, Sen-G, Pres-G, Pres-P, House-G)\n",
    "\n",
    "<b> type_detail: </b>\tDetailed type of election (this distinguishes between Republican and Democratic primaries, for example, whereas type_simple does not)\n",
    "\n",
    "<b> pollster: </b>\tPollster name\n",
    "\n",
    "<b> partisan: </b>\tFlag for internal/partisan poll. \"D\" indicates Democratic poll, \"R\" indicates Republican poll, \"I\" indicates poll put out by independent candidate's campaign. Note that different sources define these categories differently and our categorization will often reflect the original source's definition. In other words, these definitions may be inconsistent and should be used carefully.\n",
    "\n",
    "<b> polldate: </b>\tMedian field date of the poll\n",
    "\n",
    "<b> samplesize: </b>\tSample size of the poll. Where missing, this is estimated from the poll's margin of error, or similar polls conducted by the same polling firm. A sample size of 600 is used if no better estimate is available.\n",
    "\n",
    "<b> cand1_name: </b>\tName of Candidate #1. Candidates #1 and #2 are defined as the top two finishers in the election (regardless of whether or not they were the top two candidates in the poll). In races where a Democrat and a Republican were the top two finishers, Candidate #1 is the Democrat and simply listed as \"Democrat\".\n",
    "\n",
    "<b> cand1_pct: </b>\tCandidate #1's share of the vote in the poll.\n",
    "\n",
    "<b> cand2_name: </b>\tName of Candidate #2. Candidates #1 and #2 are defined as the top two finishers in the election (regardless of whether or not they were the top two candidates in the poll). In races where a Democrat and a Republican were the top two finishers, Candidate #2 is the Republican and simply listed as \"Republican\"\n",
    "\n",
    "<b> cand2_pct: </b>\tCandidate #2's share of the vote in the poll.\n",
    "\n",
    "<b> cand3_pct: </b>\tShare of the vote for the top candidate listed in the poll, other than Candidate #1 and Candidate #2.\n",
    "\n",
    "<b> margin_poll:\t</b> Projected margin of victory (defeat) for Candidate #1. This is calculated as cand1_pct - cand2_pct. In races between a Democrat and a Republican, positive values indicate a Democratic lead; negative values a Repubican lead.\n",
    "\n",
    "<b> electiondate: </b>\tDate of election\n",
    "\n",
    "<b> cand1_actual: </b>\tActual share of vote for Candidate #1\n",
    "\n",
    "<b> cand2_actual: </b>\tActual share of vote for Candidate #2\n",
    "\n",
    "<b> margin_actual: </b>\tActual margin in the election. This is calculated as cand1_actual - cand2_actual. In races between a Democrat and a Republican, positive values indicate a Democratic win; negative values a Republican win.\n",
    "\n",
    "<b> error </b>\tAbsolute value of the difference between the actual and polled result. This is calculated as abs(margin_poll - margin_actual)\n",
    "\n",
    "<b> bias: </b>\tStatistical bias of the poll. This is calculated only for races in which the top two finishers were a Democrat and a Republican. It is calculated as margin_poll - margin_actual. Positive values indicate a Democratic bias (the Democrat did better in the poll than the election). Negative values indicate a Republican bias.\n",
    "\n",
    "<b> rightcall: </b>\tFlag to indicate whether the pollster called the outcome correctly, i.e. whether the candidate they had listed in 1st place won the election. A 1 indicates a correct call and a 0 an incorrect call; 0.5 indicates that the pollster had two or more candidates tied for the lead and one of the tied candidates won.\n",
    "comment\tAdditional information, such as alternate names for the poll."
   ]
  },
  {
   "cell_type": "markdown",
   "metadata": {},
   "source": [
    "I believe that I can delete some of these columns as extraneous, including partisan and pollno."
   ]
  },
  {
   "cell_type": "code",
   "execution_count": 5,
   "metadata": {},
   "outputs": [
    {
     "data": {
      "text/plain": [
       "(9132, 17)"
      ]
     },
     "execution_count": 5,
     "metadata": {},
     "output_type": "execute_result"
    }
   ],
   "source": [
    "polls = polls.drop(columns=['polldate', 'electiondate','pollno', 'partisan', 'cand3_pct'])\n",
    "polls.head()\n",
    "polls.shape"
   ]
  },
  {
   "cell_type": "markdown",
   "metadata": {},
   "source": [
    "## Making Dummy Variables"
   ]
  },
  {
   "cell_type": "markdown",
   "metadata": {},
   "source": [
    "Lastly, I need to get dummy variables for all of the categorical data."
   ]
  },
  {
   "cell_type": "code",
   "execution_count": 6,
   "metadata": {},
   "outputs": [
    {
     "data": {
      "text/plain": [
       "(9132, 327)"
      ]
     },
     "execution_count": 6,
     "metadata": {},
     "output_type": "execute_result"
    }
   ],
   "source": [
    "#location dummy variables\n",
    "\n",
    "location_dummy = pd.get_dummies(polls['location'])\n",
    "polls = pd.concat([polls, location_dummy], axis=1)\n",
    "polls.shape"
   ]
  },
  {
   "cell_type": "code",
   "execution_count": 7,
   "metadata": {},
   "outputs": [
    {
     "data": {
      "text/plain": [
       "(9132, 332)"
      ]
     },
     "execution_count": 7,
     "metadata": {},
     "output_type": "execute_result"
    }
   ],
   "source": [
    "#type_simple dummy variables\n",
    "\n",
    "type_simple_dummy = pd.get_dummies(polls['type_simple'])\n",
    "polls = pd.concat([polls, type_simple_dummy], axis=1)\n",
    "polls.shape"
   ]
  },
  {
   "cell_type": "code",
   "execution_count": 8,
   "metadata": {},
   "outputs": [
    {
     "data": {
      "text/plain": [
       "(9132, 761)"
      ]
     },
     "execution_count": 8,
     "metadata": {},
     "output_type": "execute_result"
    }
   ],
   "source": [
    "#pollster dummy variables\n",
    "\n",
    "pollster_dummy = pd.get_dummies(polls['pollster'])\n",
    "polls=pd.concat([polls, pollster_dummy], axis=1)\n",
    "polls.shape"
   ]
  },
  {
   "cell_type": "code",
   "execution_count": 9,
   "metadata": {},
   "outputs": [
    {
     "data": {
      "text/plain": [
       "(9132, 806)"
      ]
     },
     "execution_count": 9,
     "metadata": {},
     "output_type": "execute_result"
    }
   ],
   "source": [
    "#cand1_name dummy variables\n",
    "\n",
    "cand1name_dummy = pd.get_dummies(polls['cand1_name'])\n",
    "polls = pd.concat([polls, cand1name_dummy], axis=1)\n",
    "polls.shape"
   ]
  },
  {
   "cell_type": "code",
   "execution_count": 10,
   "metadata": {},
   "outputs": [
    {
     "data": {
      "text/plain": [
       "(9132, 862)"
      ]
     },
     "execution_count": 10,
     "metadata": {},
     "output_type": "execute_result"
    }
   ],
   "source": [
    "#cand1_name dummy variables\n",
    "\n",
    "cand2name_dummy = pd.get_dummies(polls['cand2_name'])\n",
    "polls = pd.concat([polls, cand2name_dummy], axis=1)\n",
    "polls.shape"
   ]
  },
  {
   "cell_type": "code",
   "execution_count": 11,
   "metadata": {},
   "outputs": [],
   "source": [
    "#drop categorical variables now that we have dummy variables\n",
    "\n",
    "polls = polls.drop(['race', 'location', 'type_simple', 'pollster', 'cand1_name', 'cand2_name'], axis=1)"
   ]
  },
  {
   "cell_type": "markdown",
   "metadata": {},
   "source": [
    "## Eliminating Duplicate Columns and Dealing with NaN Values"
   ]
  },
  {
   "cell_type": "markdown",
   "metadata": {},
   "source": [
    "In exploring the data further, it reveals that there are NaN values only for cases where there is a third candidate being polled. If we explore this further, the election results also only reveal that there are only two values. In this case, it is okay to replace the relatively few NaNs with 0 because the percentage of that value in the poll approaches this anyway. This makes sense in a real-world application because the United State's two-party system only allows for third-party to obtain a de minimus percentage of the vote. This has notable exceptions in key presidential races, but those are not reflected in this data. As such, I will delete duplicate columns and fill NaNs with 0. Furthermore, the regression will throw an error if there are duplicate columns."
   ]
  },
  {
   "cell_type": "code",
   "execution_count": 12,
   "metadata": {},
   "outputs": [
    {
     "name": "stdout",
     "output_type": "stream",
     "text": [
      "Index(['Bush', 'Clark', 'Clinton', 'Cruz', 'Edwards', 'Edwards (D)',\n",
      "       'Gingrich', 'Huckabee', 'Kasich', 'Kerry', 'McCain', 'Romney',\n",
      "       'Sanders', 'Santorum', 'Trump'],\n",
      "      dtype='object')\n"
     ]
    }
   ],
   "source": [
    "duplicate_columns = polls.columns[polls.columns.duplicated()]\n",
    "print(duplicate_columns)"
   ]
  },
  {
   "cell_type": "code",
   "execution_count": 13,
   "metadata": {},
   "outputs": [
    {
     "data": {
      "text/html": [
       "<div>\n",
       "<style scoped>\n",
       "    .dataframe tbody tr th:only-of-type {\n",
       "        vertical-align: middle;\n",
       "    }\n",
       "\n",
       "    .dataframe tbody tr th {\n",
       "        vertical-align: top;\n",
       "    }\n",
       "\n",
       "    .dataframe thead th {\n",
       "        text-align: right;\n",
       "    }\n",
       "</style>\n",
       "<table border=\"1\" class=\"dataframe\">\n",
       "  <thead>\n",
       "    <tr style=\"text-align: right;\">\n",
       "      <th></th>\n",
       "      <th>year</th>\n",
       "      <th>samplesize</th>\n",
       "      <th>cand1_pct</th>\n",
       "      <th>cand2_pct</th>\n",
       "      <th>margin_poll</th>\n",
       "      <th>cand1_actual</th>\n",
       "      <th>cand2_actual</th>\n",
       "      <th>margin_actual</th>\n",
       "      <th>error</th>\n",
       "      <th>bias</th>\n",
       "      <th>...</th>\n",
       "      <th>Rispone (R)</th>\n",
       "      <th>Robitallie (R)</th>\n",
       "      <th>Rubio</th>\n",
       "      <th>Sanchez (D)</th>\n",
       "      <th>Summers (R)</th>\n",
       "      <th>Tancredo (I)</th>\n",
       "      <th>Tarrant (R)</th>\n",
       "      <th>Terrell (R)</th>\n",
       "      <th>Vitter (R)</th>\n",
       "      <th>Zupan (R)</th>\n",
       "    </tr>\n",
       "  </thead>\n",
       "  <tbody>\n",
       "    <tr>\n",
       "      <th>0</th>\n",
       "      <td>1998</td>\n",
       "      <td>364.0</td>\n",
       "      <td>26.00</td>\n",
       "      <td>57.00</td>\n",
       "      <td>-31.00</td>\n",
       "      <td>33.20</td>\n",
       "      <td>54.30</td>\n",
       "      <td>-21.10</td>\n",
       "      <td>9.90</td>\n",
       "      <td>-9.90</td>\n",
       "      <td>...</td>\n",
       "      <td>0</td>\n",
       "      <td>0</td>\n",
       "      <td>0</td>\n",
       "      <td>0</td>\n",
       "      <td>0</td>\n",
       "      <td>0</td>\n",
       "      <td>0</td>\n",
       "      <td>0</td>\n",
       "      <td>0</td>\n",
       "      <td>0</td>\n",
       "    </tr>\n",
       "    <tr>\n",
       "      <th>1</th>\n",
       "      <td>1998</td>\n",
       "      <td>540.0</td>\n",
       "      <td>37.00</td>\n",
       "      <td>52.00</td>\n",
       "      <td>-15.00</td>\n",
       "      <td>44.70</td>\n",
       "      <td>50.10</td>\n",
       "      <td>-5.40</td>\n",
       "      <td>9.60</td>\n",
       "      <td>-9.60</td>\n",
       "      <td>...</td>\n",
       "      <td>0</td>\n",
       "      <td>0</td>\n",
       "      <td>0</td>\n",
       "      <td>0</td>\n",
       "      <td>0</td>\n",
       "      <td>0</td>\n",
       "      <td>0</td>\n",
       "      <td>0</td>\n",
       "      <td>0</td>\n",
       "      <td>0</td>\n",
       "    </tr>\n",
       "    <tr>\n",
       "      <th>2</th>\n",
       "      <td>1998</td>\n",
       "      <td>372.0</td>\n",
       "      <td>44.00</td>\n",
       "      <td>42.00</td>\n",
       "      <td>2.00</td>\n",
       "      <td>44.73</td>\n",
       "      <td>55.27</td>\n",
       "      <td>-10.54</td>\n",
       "      <td>12.54</td>\n",
       "      <td>12.54</td>\n",
       "      <td>...</td>\n",
       "      <td>0</td>\n",
       "      <td>0</td>\n",
       "      <td>0</td>\n",
       "      <td>0</td>\n",
       "      <td>0</td>\n",
       "      <td>0</td>\n",
       "      <td>0</td>\n",
       "      <td>0</td>\n",
       "      <td>0</td>\n",
       "      <td>0</td>\n",
       "    </tr>\n",
       "    <tr>\n",
       "      <th>3</th>\n",
       "      <td>1998</td>\n",
       "      <td>400.0</td>\n",
       "      <td>42.00</td>\n",
       "      <td>36.00</td>\n",
       "      <td>6.00</td>\n",
       "      <td>44.69</td>\n",
       "      <td>52.51</td>\n",
       "      <td>-7.82</td>\n",
       "      <td>13.82</td>\n",
       "      <td>13.82</td>\n",
       "      <td>...</td>\n",
       "      <td>0</td>\n",
       "      <td>0</td>\n",
       "      <td>0</td>\n",
       "      <td>0</td>\n",
       "      <td>0</td>\n",
       "      <td>0</td>\n",
       "      <td>0</td>\n",
       "      <td>0</td>\n",
       "      <td>0</td>\n",
       "      <td>0</td>\n",
       "    </tr>\n",
       "    <tr>\n",
       "      <th>4</th>\n",
       "      <td>1998</td>\n",
       "      <td>864.0</td>\n",
       "      <td>39.00</td>\n",
       "      <td>36.00</td>\n",
       "      <td>3.00</td>\n",
       "      <td>46.42</td>\n",
       "      <td>47.99</td>\n",
       "      <td>-1.57</td>\n",
       "      <td>4.57</td>\n",
       "      <td>4.57</td>\n",
       "      <td>...</td>\n",
       "      <td>0</td>\n",
       "      <td>0</td>\n",
       "      <td>0</td>\n",
       "      <td>0</td>\n",
       "      <td>0</td>\n",
       "      <td>0</td>\n",
       "      <td>0</td>\n",
       "      <td>0</td>\n",
       "      <td>0</td>\n",
       "      <td>0</td>\n",
       "    </tr>\n",
       "    <tr>\n",
       "      <th>...</th>\n",
       "      <td>...</td>\n",
       "      <td>...</td>\n",
       "      <td>...</td>\n",
       "      <td>...</td>\n",
       "      <td>...</td>\n",
       "      <td>...</td>\n",
       "      <td>...</td>\n",
       "      <td>...</td>\n",
       "      <td>...</td>\n",
       "      <td>...</td>\n",
       "      <td>...</td>\n",
       "      <td>...</td>\n",
       "      <td>...</td>\n",
       "      <td>...</td>\n",
       "      <td>...</td>\n",
       "      <td>...</td>\n",
       "      <td>...</td>\n",
       "      <td>...</td>\n",
       "      <td>...</td>\n",
       "      <td>...</td>\n",
       "      <td>...</td>\n",
       "    </tr>\n",
       "    <tr>\n",
       "      <th>9127</th>\n",
       "      <td>2019</td>\n",
       "      <td>1525.0</td>\n",
       "      <td>48.00</td>\n",
       "      <td>26.00</td>\n",
       "      <td>22.00</td>\n",
       "      <td>46.59</td>\n",
       "      <td>27.42</td>\n",
       "      <td>19.18</td>\n",
       "      <td>2.82</td>\n",
       "      <td>0.00</td>\n",
       "      <td>...</td>\n",
       "      <td>1</td>\n",
       "      <td>0</td>\n",
       "      <td>0</td>\n",
       "      <td>0</td>\n",
       "      <td>0</td>\n",
       "      <td>0</td>\n",
       "      <td>0</td>\n",
       "      <td>0</td>\n",
       "      <td>0</td>\n",
       "      <td>0</td>\n",
       "    </tr>\n",
       "    <tr>\n",
       "      <th>9128</th>\n",
       "      <td>2019</td>\n",
       "      <td>600.0</td>\n",
       "      <td>46.50</td>\n",
       "      <td>30.00</td>\n",
       "      <td>16.50</td>\n",
       "      <td>46.59</td>\n",
       "      <td>27.42</td>\n",
       "      <td>19.18</td>\n",
       "      <td>2.68</td>\n",
       "      <td>0.00</td>\n",
       "      <td>...</td>\n",
       "      <td>1</td>\n",
       "      <td>0</td>\n",
       "      <td>0</td>\n",
       "      <td>0</td>\n",
       "      <td>0</td>\n",
       "      <td>0</td>\n",
       "      <td>0</td>\n",
       "      <td>0</td>\n",
       "      <td>0</td>\n",
       "      <td>0</td>\n",
       "    </tr>\n",
       "    <tr>\n",
       "      <th>9129</th>\n",
       "      <td>2019</td>\n",
       "      <td>600.0</td>\n",
       "      <td>52.00</td>\n",
       "      <td>22.00</td>\n",
       "      <td>30.00</td>\n",
       "      <td>46.59</td>\n",
       "      <td>27.42</td>\n",
       "      <td>19.18</td>\n",
       "      <td>10.82</td>\n",
       "      <td>0.00</td>\n",
       "      <td>...</td>\n",
       "      <td>1</td>\n",
       "      <td>0</td>\n",
       "      <td>0</td>\n",
       "      <td>0</td>\n",
       "      <td>0</td>\n",
       "      <td>0</td>\n",
       "      <td>0</td>\n",
       "      <td>0</td>\n",
       "      <td>0</td>\n",
       "      <td>0</td>\n",
       "    </tr>\n",
       "    <tr>\n",
       "      <th>9130</th>\n",
       "      <td>2019</td>\n",
       "      <td>700.0</td>\n",
       "      <td>39.77</td>\n",
       "      <td>35.13</td>\n",
       "      <td>4.63</td>\n",
       "      <td>46.59</td>\n",
       "      <td>27.42</td>\n",
       "      <td>19.18</td>\n",
       "      <td>14.55</td>\n",
       "      <td>0.00</td>\n",
       "      <td>...</td>\n",
       "      <td>1</td>\n",
       "      <td>0</td>\n",
       "      <td>0</td>\n",
       "      <td>0</td>\n",
       "      <td>0</td>\n",
       "      <td>0</td>\n",
       "      <td>0</td>\n",
       "      <td>0</td>\n",
       "      <td>0</td>\n",
       "      <td>0</td>\n",
       "    </tr>\n",
       "    <tr>\n",
       "      <th>9131</th>\n",
       "      <td>2019</td>\n",
       "      <td>1070.0</td>\n",
       "      <td>48.30</td>\n",
       "      <td>24.90</td>\n",
       "      <td>23.40</td>\n",
       "      <td>46.59</td>\n",
       "      <td>27.42</td>\n",
       "      <td>19.18</td>\n",
       "      <td>4.22</td>\n",
       "      <td>0.00</td>\n",
       "      <td>...</td>\n",
       "      <td>1</td>\n",
       "      <td>0</td>\n",
       "      <td>0</td>\n",
       "      <td>0</td>\n",
       "      <td>0</td>\n",
       "      <td>0</td>\n",
       "      <td>0</td>\n",
       "      <td>0</td>\n",
       "      <td>0</td>\n",
       "      <td>0</td>\n",
       "    </tr>\n",
       "  </tbody>\n",
       "</table>\n",
       "<p>9132 rows × 826 columns</p>\n",
       "</div>"
      ],
      "text/plain": [
       "      year  samplesize  cand1_pct  cand2_pct  margin_poll  cand1_actual  \\\n",
       "0     1998       364.0      26.00      57.00       -31.00         33.20   \n",
       "1     1998       540.0      37.00      52.00       -15.00         44.70   \n",
       "2     1998       372.0      44.00      42.00         2.00         44.73   \n",
       "3     1998       400.0      42.00      36.00         6.00         44.69   \n",
       "4     1998       864.0      39.00      36.00         3.00         46.42   \n",
       "...    ...         ...        ...        ...          ...           ...   \n",
       "9127  2019      1525.0      48.00      26.00        22.00         46.59   \n",
       "9128  2019       600.0      46.50      30.00        16.50         46.59   \n",
       "9129  2019       600.0      52.00      22.00        30.00         46.59   \n",
       "9130  2019       700.0      39.77      35.13         4.63         46.59   \n",
       "9131  2019      1070.0      48.30      24.90        23.40         46.59   \n",
       "\n",
       "      cand2_actual  margin_actual  error   bias  ...  Rispone (R)  \\\n",
       "0            54.30         -21.10   9.90  -9.90  ...            0   \n",
       "1            50.10          -5.40   9.60  -9.60  ...            0   \n",
       "2            55.27         -10.54  12.54  12.54  ...            0   \n",
       "3            52.51          -7.82  13.82  13.82  ...            0   \n",
       "4            47.99          -1.57   4.57   4.57  ...            0   \n",
       "...            ...            ...    ...    ...  ...          ...   \n",
       "9127         27.42          19.18   2.82   0.00  ...            1   \n",
       "9128         27.42          19.18   2.68   0.00  ...            1   \n",
       "9129         27.42          19.18  10.82   0.00  ...            1   \n",
       "9130         27.42          19.18  14.55   0.00  ...            1   \n",
       "9131         27.42          19.18   4.22   0.00  ...            1   \n",
       "\n",
       "      Robitallie (R)  Rubio  Sanchez (D)  Summers (R)  Tancredo (I)  \\\n",
       "0                  0      0            0            0             0   \n",
       "1                  0      0            0            0             0   \n",
       "2                  0      0            0            0             0   \n",
       "3                  0      0            0            0             0   \n",
       "4                  0      0            0            0             0   \n",
       "...              ...    ...          ...          ...           ...   \n",
       "9127               0      0            0            0             0   \n",
       "9128               0      0            0            0             0   \n",
       "9129               0      0            0            0             0   \n",
       "9130               0      0            0            0             0   \n",
       "9131               0      0            0            0             0   \n",
       "\n",
       "      Tarrant (R)  Terrell (R)  Vitter (R)  Zupan (R)  \n",
       "0               0            0           0          0  \n",
       "1               0            0           0          0  \n",
       "2               0            0           0          0  \n",
       "3               0            0           0          0  \n",
       "4               0            0           0          0  \n",
       "...           ...          ...         ...        ...  \n",
       "9127            0            0           0          0  \n",
       "9128            0            0           0          0  \n",
       "9129            0            0           0          0  \n",
       "9130            0            0           0          0  \n",
       "9131            0            0           0          0  \n",
       "\n",
       "[9132 rows x 826 columns]"
      ]
     },
     "execution_count": 13,
     "metadata": {},
     "output_type": "execute_result"
    }
   ],
   "source": [
    "polls= polls.drop(duplicate_columns, axis=1)\n",
    "polls.fillna(0, inplace=True)\n",
    "polls.round(15)"
   ]
  },
  {
   "cell_type": "markdown",
   "metadata": {},
   "source": [
    "# II. Basic Features"
   ]
  },
  {
   "cell_type": "code",
   "execution_count": 14,
   "metadata": {},
   "outputs": [
    {
     "data": {
      "text/html": [
       "<div>\n",
       "<style scoped>\n",
       "    .dataframe tbody tr th:only-of-type {\n",
       "        vertical-align: middle;\n",
       "    }\n",
       "\n",
       "    .dataframe tbody tr th {\n",
       "        vertical-align: top;\n",
       "    }\n",
       "\n",
       "    .dataframe thead th {\n",
       "        text-align: right;\n",
       "    }\n",
       "</style>\n",
       "<table border=\"1\" class=\"dataframe\">\n",
       "  <thead>\n",
       "    <tr style=\"text-align: right;\">\n",
       "      <th></th>\n",
       "      <th>year</th>\n",
       "      <th>samplesize</th>\n",
       "      <th>cand1_pct</th>\n",
       "      <th>cand2_pct</th>\n",
       "      <th>margin_poll</th>\n",
       "      <th>cand1_actual</th>\n",
       "      <th>cand2_actual</th>\n",
       "      <th>margin_actual</th>\n",
       "      <th>error</th>\n",
       "      <th>bias</th>\n",
       "      <th>...</th>\n",
       "      <th>Rispone (R)</th>\n",
       "      <th>Robitallie (R)</th>\n",
       "      <th>Rubio</th>\n",
       "      <th>Sanchez (D)</th>\n",
       "      <th>Summers (R)</th>\n",
       "      <th>Tancredo (I)</th>\n",
       "      <th>Tarrant (R)</th>\n",
       "      <th>Terrell (R)</th>\n",
       "      <th>Vitter (R)</th>\n",
       "      <th>Zupan (R)</th>\n",
       "    </tr>\n",
       "  </thead>\n",
       "  <tbody>\n",
       "    <tr>\n",
       "      <th>0</th>\n",
       "      <td>1998</td>\n",
       "      <td>364.0</td>\n",
       "      <td>26.0</td>\n",
       "      <td>57.0</td>\n",
       "      <td>-31.0</td>\n",
       "      <td>33.20</td>\n",
       "      <td>54.30</td>\n",
       "      <td>-21.10</td>\n",
       "      <td>9.90</td>\n",
       "      <td>-9.90</td>\n",
       "      <td>...</td>\n",
       "      <td>0</td>\n",
       "      <td>0</td>\n",
       "      <td>0</td>\n",
       "      <td>0</td>\n",
       "      <td>0</td>\n",
       "      <td>0</td>\n",
       "      <td>0</td>\n",
       "      <td>0</td>\n",
       "      <td>0</td>\n",
       "      <td>0</td>\n",
       "    </tr>\n",
       "    <tr>\n",
       "      <th>1</th>\n",
       "      <td>1998</td>\n",
       "      <td>540.0</td>\n",
       "      <td>37.0</td>\n",
       "      <td>52.0</td>\n",
       "      <td>-15.0</td>\n",
       "      <td>44.70</td>\n",
       "      <td>50.10</td>\n",
       "      <td>-5.40</td>\n",
       "      <td>9.60</td>\n",
       "      <td>-9.60</td>\n",
       "      <td>...</td>\n",
       "      <td>0</td>\n",
       "      <td>0</td>\n",
       "      <td>0</td>\n",
       "      <td>0</td>\n",
       "      <td>0</td>\n",
       "      <td>0</td>\n",
       "      <td>0</td>\n",
       "      <td>0</td>\n",
       "      <td>0</td>\n",
       "      <td>0</td>\n",
       "    </tr>\n",
       "    <tr>\n",
       "      <th>2</th>\n",
       "      <td>1998</td>\n",
       "      <td>372.0</td>\n",
       "      <td>44.0</td>\n",
       "      <td>42.0</td>\n",
       "      <td>2.0</td>\n",
       "      <td>44.73</td>\n",
       "      <td>55.27</td>\n",
       "      <td>-10.54</td>\n",
       "      <td>12.54</td>\n",
       "      <td>12.54</td>\n",
       "      <td>...</td>\n",
       "      <td>0</td>\n",
       "      <td>0</td>\n",
       "      <td>0</td>\n",
       "      <td>0</td>\n",
       "      <td>0</td>\n",
       "      <td>0</td>\n",
       "      <td>0</td>\n",
       "      <td>0</td>\n",
       "      <td>0</td>\n",
       "      <td>0</td>\n",
       "    </tr>\n",
       "    <tr>\n",
       "      <th>3</th>\n",
       "      <td>1998</td>\n",
       "      <td>400.0</td>\n",
       "      <td>42.0</td>\n",
       "      <td>36.0</td>\n",
       "      <td>6.0</td>\n",
       "      <td>44.69</td>\n",
       "      <td>52.51</td>\n",
       "      <td>-7.82</td>\n",
       "      <td>13.82</td>\n",
       "      <td>13.82</td>\n",
       "      <td>...</td>\n",
       "      <td>0</td>\n",
       "      <td>0</td>\n",
       "      <td>0</td>\n",
       "      <td>0</td>\n",
       "      <td>0</td>\n",
       "      <td>0</td>\n",
       "      <td>0</td>\n",
       "      <td>0</td>\n",
       "      <td>0</td>\n",
       "      <td>0</td>\n",
       "    </tr>\n",
       "    <tr>\n",
       "      <th>4</th>\n",
       "      <td>1998</td>\n",
       "      <td>864.0</td>\n",
       "      <td>39.0</td>\n",
       "      <td>36.0</td>\n",
       "      <td>3.0</td>\n",
       "      <td>46.42</td>\n",
       "      <td>47.99</td>\n",
       "      <td>-1.57</td>\n",
       "      <td>4.57</td>\n",
       "      <td>4.57</td>\n",
       "      <td>...</td>\n",
       "      <td>0</td>\n",
       "      <td>0</td>\n",
       "      <td>0</td>\n",
       "      <td>0</td>\n",
       "      <td>0</td>\n",
       "      <td>0</td>\n",
       "      <td>0</td>\n",
       "      <td>0</td>\n",
       "      <td>0</td>\n",
       "      <td>0</td>\n",
       "    </tr>\n",
       "  </tbody>\n",
       "</table>\n",
       "<p>5 rows × 826 columns</p>\n",
       "</div>"
      ],
      "text/plain": [
       "   year  samplesize  cand1_pct  cand2_pct  margin_poll  cand1_actual  \\\n",
       "0  1998       364.0       26.0       57.0        -31.0         33.20   \n",
       "1  1998       540.0       37.0       52.0        -15.0         44.70   \n",
       "2  1998       372.0       44.0       42.0          2.0         44.73   \n",
       "3  1998       400.0       42.0       36.0          6.0         44.69   \n",
       "4  1998       864.0       39.0       36.0          3.0         46.42   \n",
       "\n",
       "   cand2_actual  margin_actual  error   bias  ...  Rispone (R)  \\\n",
       "0         54.30         -21.10   9.90  -9.90  ...            0   \n",
       "1         50.10          -5.40   9.60  -9.60  ...            0   \n",
       "2         55.27         -10.54  12.54  12.54  ...            0   \n",
       "3         52.51          -7.82  13.82  13.82  ...            0   \n",
       "4         47.99          -1.57   4.57   4.57  ...            0   \n",
       "\n",
       "   Robitallie (R)  Rubio  Sanchez (D)  Summers (R)  Tancredo (I)  Tarrant (R)  \\\n",
       "0               0      0            0            0             0            0   \n",
       "1               0      0            0            0             0            0   \n",
       "2               0      0            0            0             0            0   \n",
       "3               0      0            0            0             0            0   \n",
       "4               0      0            0            0             0            0   \n",
       "\n",
       "   Terrell (R)  Vitter (R)  Zupan (R)  \n",
       "0            0           0          0  \n",
       "1            0           0          0  \n",
       "2            0           0          0  \n",
       "3            0           0          0  \n",
       "4            0           0          0  \n",
       "\n",
       "[5 rows x 826 columns]"
      ]
     },
     "execution_count": 14,
     "metadata": {},
     "output_type": "execute_result"
    }
   ],
   "source": [
    "polls.head()"
   ]
  },
  {
   "cell_type": "code",
   "execution_count": 15,
   "metadata": {
    "scrolled": true
   },
   "outputs": [
    {
     "data": {
      "text/html": [
       "<div>\n",
       "<style scoped>\n",
       "    .dataframe tbody tr th:only-of-type {\n",
       "        vertical-align: middle;\n",
       "    }\n",
       "\n",
       "    .dataframe tbody tr th {\n",
       "        vertical-align: top;\n",
       "    }\n",
       "\n",
       "    .dataframe thead th {\n",
       "        text-align: right;\n",
       "    }\n",
       "</style>\n",
       "<table border=\"1\" class=\"dataframe\">\n",
       "  <thead>\n",
       "    <tr style=\"text-align: right;\">\n",
       "      <th></th>\n",
       "      <th>year</th>\n",
       "      <th>samplesize</th>\n",
       "      <th>cand1_pct</th>\n",
       "      <th>cand2_pct</th>\n",
       "      <th>margin_poll</th>\n",
       "      <th>cand1_actual</th>\n",
       "      <th>cand2_actual</th>\n",
       "      <th>margin_actual</th>\n",
       "      <th>error</th>\n",
       "      <th>bias</th>\n",
       "      <th>...</th>\n",
       "      <th>Rispone (R)</th>\n",
       "      <th>Robitallie (R)</th>\n",
       "      <th>Rubio</th>\n",
       "      <th>Sanchez (D)</th>\n",
       "      <th>Summers (R)</th>\n",
       "      <th>Tancredo (I)</th>\n",
       "      <th>Tarrant (R)</th>\n",
       "      <th>Terrell (R)</th>\n",
       "      <th>Vitter (R)</th>\n",
       "      <th>Zupan (R)</th>\n",
       "    </tr>\n",
       "  </thead>\n",
       "  <tbody>\n",
       "    <tr>\n",
       "      <th>count</th>\n",
       "      <td>9132.000000</td>\n",
       "      <td>9132.000000</td>\n",
       "      <td>9132.000000</td>\n",
       "      <td>9132.000000</td>\n",
       "      <td>9132.000000</td>\n",
       "      <td>9132.000000</td>\n",
       "      <td>9132.000000</td>\n",
       "      <td>9132.000000</td>\n",
       "      <td>9132.000000</td>\n",
       "      <td>9132.000000</td>\n",
       "      <td>...</td>\n",
       "      <td>9132.000000</td>\n",
       "      <td>9132.000000</td>\n",
       "      <td>9132.000000</td>\n",
       "      <td>9132.000000</td>\n",
       "      <td>9132.000000</td>\n",
       "      <td>9132.000000</td>\n",
       "      <td>9132.000000</td>\n",
       "      <td>9132.000000</td>\n",
       "      <td>9132.000000</td>\n",
       "      <td>9132.000000</td>\n",
       "    </tr>\n",
       "    <tr>\n",
       "      <th>mean</th>\n",
       "      <td>2009.052124</td>\n",
       "      <td>854.101803</td>\n",
       "      <td>44.711389</td>\n",
       "      <td>42.721669</td>\n",
       "      <td>1.989719</td>\n",
       "      <td>48.331067</td>\n",
       "      <td>45.879433</td>\n",
       "      <td>2.451574</td>\n",
       "      <td>5.422742</td>\n",
       "      <td>0.065331</td>\n",
       "      <td>...</td>\n",
       "      <td>0.001314</td>\n",
       "      <td>0.000657</td>\n",
       "      <td>0.006899</td>\n",
       "      <td>0.000657</td>\n",
       "      <td>0.000219</td>\n",
       "      <td>0.001643</td>\n",
       "      <td>0.000110</td>\n",
       "      <td>0.000329</td>\n",
       "      <td>0.000767</td>\n",
       "      <td>0.000110</td>\n",
       "    </tr>\n",
       "    <tr>\n",
       "      <th>std</th>\n",
       "      <td>5.654058</td>\n",
       "      <td>1561.992838</td>\n",
       "      <td>8.544382</td>\n",
       "      <td>9.604536</td>\n",
       "      <td>14.436170</td>\n",
       "      <td>8.213888</td>\n",
       "      <td>9.460073</td>\n",
       "      <td>15.294435</td>\n",
       "      <td>4.820233</td>\n",
       "      <td>5.657329</td>\n",
       "      <td>...</td>\n",
       "      <td>0.036228</td>\n",
       "      <td>0.025626</td>\n",
       "      <td>0.082777</td>\n",
       "      <td>0.025626</td>\n",
       "      <td>0.014798</td>\n",
       "      <td>0.040498</td>\n",
       "      <td>0.010464</td>\n",
       "      <td>0.018123</td>\n",
       "      <td>0.027677</td>\n",
       "      <td>0.010464</td>\n",
       "    </tr>\n",
       "    <tr>\n",
       "      <th>min</th>\n",
       "      <td>1998.000000</td>\n",
       "      <td>113.000000</td>\n",
       "      <td>3.000000</td>\n",
       "      <td>4.000000</td>\n",
       "      <td>-80.000000</td>\n",
       "      <td>5.400000</td>\n",
       "      <td>4.090000</td>\n",
       "      <td>-84.100000</td>\n",
       "      <td>0.000000</td>\n",
       "      <td>-40.240000</td>\n",
       "      <td>...</td>\n",
       "      <td>0.000000</td>\n",
       "      <td>0.000000</td>\n",
       "      <td>0.000000</td>\n",
       "      <td>0.000000</td>\n",
       "      <td>0.000000</td>\n",
       "      <td>0.000000</td>\n",
       "      <td>0.000000</td>\n",
       "      <td>0.000000</td>\n",
       "      <td>0.000000</td>\n",
       "      <td>0.000000</td>\n",
       "    </tr>\n",
       "    <tr>\n",
       "      <th>25%</th>\n",
       "      <td>2004.000000</td>\n",
       "      <td>500.000000</td>\n",
       "      <td>41.000000</td>\n",
       "      <td>38.000000</td>\n",
       "      <td>-5.000000</td>\n",
       "      <td>44.310000</td>\n",
       "      <td>41.852500</td>\n",
       "      <td>-5.010000</td>\n",
       "      <td>1.987500</td>\n",
       "      <td>-2.850000</td>\n",
       "      <td>...</td>\n",
       "      <td>0.000000</td>\n",
       "      <td>0.000000</td>\n",
       "      <td>0.000000</td>\n",
       "      <td>0.000000</td>\n",
       "      <td>0.000000</td>\n",
       "      <td>0.000000</td>\n",
       "      <td>0.000000</td>\n",
       "      <td>0.000000</td>\n",
       "      <td>0.000000</td>\n",
       "      <td>0.000000</td>\n",
       "    </tr>\n",
       "    <tr>\n",
       "      <th>50%</th>\n",
       "      <td>2008.000000</td>\n",
       "      <td>625.000000</td>\n",
       "      <td>45.880000</td>\n",
       "      <td>44.000000</td>\n",
       "      <td>2.000000</td>\n",
       "      <td>48.480000</td>\n",
       "      <td>47.150000</td>\n",
       "      <td>2.360000</td>\n",
       "      <td>4.210000</td>\n",
       "      <td>0.000000</td>\n",
       "      <td>...</td>\n",
       "      <td>0.000000</td>\n",
       "      <td>0.000000</td>\n",
       "      <td>0.000000</td>\n",
       "      <td>0.000000</td>\n",
       "      <td>0.000000</td>\n",
       "      <td>0.000000</td>\n",
       "      <td>0.000000</td>\n",
       "      <td>0.000000</td>\n",
       "      <td>0.000000</td>\n",
       "      <td>0.000000</td>\n",
       "    </tr>\n",
       "    <tr>\n",
       "      <th>75%</th>\n",
       "      <td>2014.000000</td>\n",
       "      <td>871.000000</td>\n",
       "      <td>49.600000</td>\n",
       "      <td>48.000000</td>\n",
       "      <td>9.000000</td>\n",
       "      <td>52.920000</td>\n",
       "      <td>51.010000</td>\n",
       "      <td>10.450000</td>\n",
       "      <td>7.500000</td>\n",
       "      <td>2.900000</td>\n",
       "      <td>...</td>\n",
       "      <td>0.000000</td>\n",
       "      <td>0.000000</td>\n",
       "      <td>0.000000</td>\n",
       "      <td>0.000000</td>\n",
       "      <td>0.000000</td>\n",
       "      <td>0.000000</td>\n",
       "      <td>0.000000</td>\n",
       "      <td>0.000000</td>\n",
       "      <td>0.000000</td>\n",
       "      <td>0.000000</td>\n",
       "    </tr>\n",
       "    <tr>\n",
       "      <th>max</th>\n",
       "      <td>2019.000000</td>\n",
       "      <td>70194.000000</td>\n",
       "      <td>88.000000</td>\n",
       "      <td>84.000000</td>\n",
       "      <td>84.000000</td>\n",
       "      <td>90.860000</td>\n",
       "      <td>89.500000</td>\n",
       "      <td>86.780000</td>\n",
       "      <td>50.980000</td>\n",
       "      <td>42.940000</td>\n",
       "      <td>...</td>\n",
       "      <td>1.000000</td>\n",
       "      <td>1.000000</td>\n",
       "      <td>1.000000</td>\n",
       "      <td>1.000000</td>\n",
       "      <td>1.000000</td>\n",
       "      <td>1.000000</td>\n",
       "      <td>1.000000</td>\n",
       "      <td>1.000000</td>\n",
       "      <td>1.000000</td>\n",
       "      <td>1.000000</td>\n",
       "    </tr>\n",
       "  </tbody>\n",
       "</table>\n",
       "<p>8 rows × 826 columns</p>\n",
       "</div>"
      ],
      "text/plain": [
       "              year    samplesize    cand1_pct    cand2_pct  margin_poll  \\\n",
       "count  9132.000000   9132.000000  9132.000000  9132.000000  9132.000000   \n",
       "mean   2009.052124    854.101803    44.711389    42.721669     1.989719   \n",
       "std       5.654058   1561.992838     8.544382     9.604536    14.436170   \n",
       "min    1998.000000    113.000000     3.000000     4.000000   -80.000000   \n",
       "25%    2004.000000    500.000000    41.000000    38.000000    -5.000000   \n",
       "50%    2008.000000    625.000000    45.880000    44.000000     2.000000   \n",
       "75%    2014.000000    871.000000    49.600000    48.000000     9.000000   \n",
       "max    2019.000000  70194.000000    88.000000    84.000000    84.000000   \n",
       "\n",
       "       cand1_actual  cand2_actual  margin_actual        error         bias  \\\n",
       "count   9132.000000   9132.000000    9132.000000  9132.000000  9132.000000   \n",
       "mean      48.331067     45.879433       2.451574     5.422742     0.065331   \n",
       "std        8.213888      9.460073      15.294435     4.820233     5.657329   \n",
       "min        5.400000      4.090000     -84.100000     0.000000   -40.240000   \n",
       "25%       44.310000     41.852500      -5.010000     1.987500    -2.850000   \n",
       "50%       48.480000     47.150000       2.360000     4.210000     0.000000   \n",
       "75%       52.920000     51.010000      10.450000     7.500000     2.900000   \n",
       "max       90.860000     89.500000      86.780000    50.980000    42.940000   \n",
       "\n",
       "       ...  Rispone (R)  Robitallie (R)        Rubio  Sanchez (D)  \\\n",
       "count  ...  9132.000000     9132.000000  9132.000000  9132.000000   \n",
       "mean   ...     0.001314        0.000657     0.006899     0.000657   \n",
       "std    ...     0.036228        0.025626     0.082777     0.025626   \n",
       "min    ...     0.000000        0.000000     0.000000     0.000000   \n",
       "25%    ...     0.000000        0.000000     0.000000     0.000000   \n",
       "50%    ...     0.000000        0.000000     0.000000     0.000000   \n",
       "75%    ...     0.000000        0.000000     0.000000     0.000000   \n",
       "max    ...     1.000000        1.000000     1.000000     1.000000   \n",
       "\n",
       "       Summers (R)  Tancredo (I)  Tarrant (R)  Terrell (R)   Vitter (R)  \\\n",
       "count  9132.000000   9132.000000  9132.000000  9132.000000  9132.000000   \n",
       "mean      0.000219      0.001643     0.000110     0.000329     0.000767   \n",
       "std       0.014798      0.040498     0.010464     0.018123     0.027677   \n",
       "min       0.000000      0.000000     0.000000     0.000000     0.000000   \n",
       "25%       0.000000      0.000000     0.000000     0.000000     0.000000   \n",
       "50%       0.000000      0.000000     0.000000     0.000000     0.000000   \n",
       "75%       0.000000      0.000000     0.000000     0.000000     0.000000   \n",
       "max       1.000000      1.000000     1.000000     1.000000     1.000000   \n",
       "\n",
       "         Zupan (R)  \n",
       "count  9132.000000  \n",
       "mean      0.000110  \n",
       "std       0.010464  \n",
       "min       0.000000  \n",
       "25%       0.000000  \n",
       "50%       0.000000  \n",
       "75%       0.000000  \n",
       "max       1.000000  \n",
       "\n",
       "[8 rows x 826 columns]"
      ]
     },
     "execution_count": 15,
     "metadata": {},
     "output_type": "execute_result"
    }
   ],
   "source": [
    "polls.describe()"
   ]
  },
  {
   "cell_type": "markdown",
   "metadata": {},
   "source": [
    "## II. What do I want to explore?"
   ]
  },
  {
   "cell_type": "markdown",
   "metadata": {},
   "source": [
    "I am most interested in exploring the error associated with polls as a means of determining reliability. I will explore the error, including histograms and scatter plots of various factors and the error. Because the error is a calculation of margins of error, I also will explore the margins of actual and predicted outcomes."
   ]
  },
  {
   "cell_type": "code",
   "execution_count": 16,
   "metadata": {},
   "outputs": [
    {
     "data": {
      "image/png": "[encoded data removed]",
      "text/plain": [
       "<Figure size 432x288 with 1 Axes>"
      ]
     },
     "metadata": {
      "needs_background": "light"
     },
     "output_type": "display_data"
    }
   ],
   "source": [
    "sns.set\n",
    "fig = sns.distplot(polls.error, kde=False, rug=True)"
   ]
  },
  {
   "cell_type": "markdown",
   "metadata": {},
   "source": [
    "Similarly, I am also interested in how sample size is associate with error. While we know that large sample sizes for polls are probably more representative, an interesting question is about the minimum sample size needed to determine reliability, so exploring the distribution could prove useful."
   ]
  },
  {
   "cell_type": "code",
   "execution_count": 17,
   "metadata": {},
   "outputs": [
    {
     "data": {
      "text/plain": [
       "<seaborn.axisgrid.FacetGrid at 0x1a1c60c3d0>"
      ]
     },
     "execution_count": 17,
     "metadata": {},
     "output_type": "execute_result"
    },
    {
     "data": {
      "image/png": "[encoded data removed]",
      "text/plain": [
       "<Figure size 360x360 with 1 Axes>"
      ]
     },
     "metadata": {
      "needs_background": "light"
     },
     "output_type": "display_data"
    }
   ],
   "source": [
    "sns.lmplot(x='year', y='samplesize', data=polls)"
   ]
  },
  {
   "cell_type": "code",
   "execution_count": 18,
   "metadata": {},
   "outputs": [
    {
     "data": {
      "image/png": "[encoded data removed]",
      "text/plain": [
       "<Figure size 432x288 with 1 Axes>"
      ]
     },
     "metadata": {
      "needs_background": "light"
     },
     "output_type": "display_data"
    }
   ],
   "source": [
    "_ = plt.hist(polls['samplesize'], bins=30)\n",
    "plt.xlim([0,20000])\n",
    "plt.show()"
   ]
  },
  {
   "cell_type": "markdown",
   "metadata": {},
   "source": [
    "Bias is also an important indicator of reliability. In this data, bias is its own unique column calculated as margin_poll - margin_actual. Positive values indicate that a Democrat did better in the poll than the actual election, and negative values mean a republican did better in the poll than the actual election. Significant outliers in bias and error will allow us to also complete more feature engineering as needed."
   ]
  },
  {
   "cell_type": "code",
   "execution_count": 19,
   "metadata": {},
   "outputs": [
    {
     "data": {
      "image/png": "[encoded data removed]",
      "text/plain": [
       "<Figure size 1008x576 with 1 Axes>"
      ]
     },
     "metadata": {
      "needs_background": "light"
     },
     "output_type": "display_data"
    }
   ],
   "source": [
    "polls.hist(column='bias', bins = 20, grid = False, figsize = (14,8), edgecolor='black')\n",
    "plt.xlabel('Percent bias (margin of actual election - margin of poll prediction)', fontsize=15)\n",
    "plt.ylabel('Frequency', fontsize=15)\n",
    "plt.title('Distribution of Bias')\n",
    "plt.show()"
   ]
  },
  {
   "cell_type": "code",
   "execution_count": 20,
   "metadata": {},
   "outputs": [
    {
     "data": {
      "image/png": "[encoded data removed]",
      "text/plain": [
       "<Figure size 432x288 with 1 Axes>"
      ]
     },
     "metadata": {
      "needs_background": "light"
     },
     "output_type": "display_data"
    }
   ],
   "source": [
    "plt.scatter(polls.margin_poll, polls.margin_actual, marker='.', alpha=0.5)\n",
    "plt.xlabel('Predicted margin of Victory')\n",
    "plt.ylabel('Actual margin of Victory of election')\n",
    "plt.title('Scatter plot of Predicted margin of victory versus Election outcome')\n",
    "plt.grid()\n",
    "plt.show()"
   ]
  },
  {
   "cell_type": "code",
   "execution_count": 21,
   "metadata": {},
   "outputs": [
    {
     "data": {
      "image/png": "[encoded data removed]",
      "text/plain": [
       "<Figure size 432x288 with 1 Axes>"
      ]
     },
     "metadata": {
      "needs_background": "light"
     },
     "output_type": "display_data"
    }
   ],
   "source": [
    "plt.scatter(polls.samplesize, polls.error, marker='.', alpha=0.5)\n",
    "plt.xlabel('Sample Size')\n",
    "plt.ylabel('Error')\n",
    "plt.title('Scatter plot of Sample Size versus Error of Poll')\n",
    "plt.grid()\n",
    "plt.show()"
   ]
  },
  {
   "cell_type": "markdown",
   "metadata": {},
   "source": [
    "Based on the above grid of predicted versus actual margins of victory, there is a strong linear relationship. The deviation from a linear regression line through this would be the error of a poll, which also appears evenly distributed, with relatively few outlier values."
   ]
  },
  {
   "cell_type": "markdown",
   "metadata": {},
   "source": [
    "# Machine Learning and Creating a Model"
   ]
  },
  {
   "cell_type": "markdown",
   "metadata": {},
   "source": [
    "I am interested in creating a regression that predicts the error of a model. Because I suspect some features may have a greater impact on the result and I want to use the most up-to-date methods, I will start by using the following methods:\n",
    "\n",
    "**1) Basic Linear Regression**  \n",
    "Doing a basic linear regression on structured data is the best place to start. While I don't expect this to be the best starting point, linear regression will help reveal if we should be doing lasso or ridge regression due to collinearity with particular features, particularly the sample size of the poll. I believe that this could be overfit.\n",
    "\n",
    "**2) XGBoost Regression**  \n",
    "XGBoost is a Decision Tree algorithm that uses gradient boosting for decision tree algorithms to minimize loss among new models. In researching machine learning algorithms to use, XGBoost has been used as an industry standard for being computationally fast and producing an effective model. It also executes and adds new models of the decision tree forest under the hood, resulting in more accurate results.\n",
    "\n",
    "**3) Lasso Regression**  \n",
    "Lasso Regression is an effective algorithm for when we believe a particular feature may have an outsized weight on the regression. Lasso does this using an absolute value function within its regularization parameter, causing a more intense drop for outsized weights. In this way, it 'punishes' high values. If sample size has increased collinearity with the outcome, then Lasso should be able to handle this and predict the error.\n",
    "\n",
    "**4) Ridge Regression**  \n",
    "Ridge,like Lasso regression, also allows us to mitigate outsized variables and overfitting. It penalizes high values by using a squared magnitude rather than an absolute value. Using ridge in comparison with a Lasso will provide insight into which method is more effective at reducing model complexity."
   ]
  },
  {
   "cell_type": "code",
   "execution_count": 22,
   "metadata": {},
   "outputs": [],
   "source": [
    "#import models to use\n",
    "from sklearn.linear_model import Ridge\n",
    "from sklearn.linear_model import Lasso\n",
    "from sklearn.linear_model import LinearRegression\n",
    "from xgboost import XGBRegressor"
   ]
  },
  {
   "cell_type": "code",
   "execution_count": 28,
   "metadata": {},
   "outputs": [],
   "source": [
    "#import analysis and processing tools\n",
    "from sklearn.model_selection import train_test_split\n",
    "from sklearn.metrics import accuracy_score\n",
    "from sklearn.metrics import r2_score\n",
    "from sklearn.metrics import mean_squared_error\n",
    "from sklearn.metrics import mean_absolute_error"
   ]
  },
  {
   "cell_type": "code",
   "execution_count": 29,
   "metadata": {},
   "outputs": [],
   "source": [
    "#create data to run\n",
    "\n",
    "X = polls.drop(columns=['error'])\n",
    "y = polls['error']\n",
    "\n",
    "#establish test size and random seed\n",
    "test_size=0.33\n",
    "seed=42\n",
    "\n",
    "X_train, X_test, y_train, y_test = train_test_split(X, y, test_size=test_size, random_state = seed)\n",
    "\n"
   ]
  },
  {
   "cell_type": "markdown",
   "metadata": {},
   "source": [
    "## Basic Linear Regression"
   ]
  },
  {
   "cell_type": "code",
   "execution_count": 30,
   "metadata": {},
   "outputs": [
    {
     "name": "stdout",
     "output_type": "stream",
     "text": [
      "LinearRegression(copy_X=True, fit_intercept=True, n_jobs=None, normalize=False)\n"
     ]
    }
   ],
   "source": [
    "model= LinearRegression()\n",
    "\n",
    "model.fit(X_train, y_train)\n",
    "\n",
    "print(model)"
   ]
  },
  {
   "cell_type": "code",
   "execution_count": 31,
   "metadata": {},
   "outputs": [],
   "source": [
    "y_pred_LR = model.predict(X_test)"
   ]
  },
  {
   "cell_type": "code",
   "execution_count": 32,
   "metadata": {},
   "outputs": [
    {
     "name": "stdout",
     "output_type": "stream",
     "text": [
      "The R-squared Score of the model is : 0.17545737688184448\n",
      "The mean squared error is : 18.73358721911903\n",
      "The mean absolute error is: 3.1206837093578743\n"
     ]
    }
   ],
   "source": [
    "r2 = r2_score(y_test, y_pred_LR)\n",
    "mse_test = mean_squared_error(y_test, y_pred_LR)\n",
    "MAE = mean_absolute_error(y_test, y_pred_LR)\n",
    "print('The R-squared Score of the model is :', r2)\n",
    "print('The mean squared error is :', mse)\n",
    "print('The mean absolute error is:', MAE)"
   ]
  },
  {
   "cell_type": "markdown",
   "metadata": {},
   "source": [
    "## XGBoost"
   ]
  },
  {
   "cell_type": "code",
   "execution_count": 33,
   "metadata": {},
   "outputs": [
    {
     "name": "stdout",
     "output_type": "stream",
     "text": [
      "[14:24:04] WARNING: src/objective/regression_obj.cu:152: reg:linear is now deprecated in favor of reg:squarederror.\n",
      "XGBRegressor(base_score=0.5, booster='gbtree', colsample_bylevel=1,\n",
      "             colsample_bynode=1, colsample_bytree=1, gamma=0,\n",
      "             importance_type='gain', learning_rate=0.1, max_delta_step=0,\n",
      "             max_depth=3, min_child_weight=1, missing=None, n_estimators=100,\n",
      "             n_jobs=1, nthread=None, objective='reg:linear', random_state=0,\n",
      "             reg_alpha=0, reg_lambda=1, scale_pos_weight=1, seed=None,\n",
      "             silent=None, subsample=1, verbosity=1)\n"
     ]
    }
   ],
   "source": [
    "#run Xgboost model\n",
    "\n",
    "model= XGBRegressor()\n",
    "\n",
    "model.fit(X_train, y_train)\n",
    "\n",
    "print(model)"
   ]
  },
  {
   "cell_type": "code",
   "execution_count": 36,
   "metadata": {},
   "outputs": [],
   "source": [
    "y_pred = model.predict(X_test)"
   ]
  },
  {
   "cell_type": "code",
   "execution_count": 37,
   "metadata": {},
   "outputs": [
    {
     "name": "stdout",
     "output_type": "stream",
     "text": [
      "The R-squared Score of the model is : 0.8274592710021751\n",
      "The mean squared error is : 3.920120931174652\n",
      "The mean absolute error is: 0.9238756385858912\n"
     ]
    }
   ],
   "source": [
    "\n",
    "r2 = r2_score(y_test, y_pred)\n",
    "mse = mean_squared_error(y_test, y_pred)\n",
    "MAE = mean_absolute_error(y_test, y_pred)\n",
    "print('The R-squared Score of the model is :', r2)\n",
    "print('The mean squared error is :', mse)\n",
    "print('The mean absolute error is:', MAE)"
   ]
  },
  {
   "cell_type": "markdown",
   "metadata": {},
   "source": [
    "## Lasso Regression"
   ]
  },
  {
   "cell_type": "code",
   "execution_count": 38,
   "metadata": {},
   "outputs": [
    {
     "name": "stdout",
     "output_type": "stream",
     "text": [
      "Lasso(alpha=1.0, copy_X=True, fit_intercept=True, max_iter=1000,\n",
      "      normalize=False, positive=False, precompute=False, random_state=None,\n",
      "      selection='cyclic', tol=0.0001, warm_start=False)\n"
     ]
    }
   ],
   "source": [
    "#Build Lasso Regression Model\n",
    "\n",
    "lasso_model = Lasso()\n",
    "\n",
    "lasso_model.fit(X_train, y_train)\n",
    "\n",
    "print(lasso_model)"
   ]
  },
  {
   "cell_type": "code",
   "execution_count": 39,
   "metadata": {},
   "outputs": [],
   "source": [
    "lasso_pred = lasso_model.predict(X_test)"
   ]
  },
  {
   "cell_type": "code",
   "execution_count": 40,
   "metadata": {},
   "outputs": [
    {
     "name": "stdout",
     "output_type": "stream",
     "text": [
      "The R-squared Score of the model is : 0.07534753228877467\n",
      "The mean squared error is : 21.00808031698279\n",
      "The mean absolute error is: 3.3709132867746283\n"
     ]
    }
   ],
   "source": [
    "r2 = r2_score(y_test, lasso_pred)\n",
    "mse = mean_squared_error(y_test, lasso_pred)\n",
    "MAE = mean_absolute_error(y_test, lasso_pred)\n",
    "print('The R-squared Score of the model is :', r2)\n",
    "print('The mean squared error is :', mse)\n",
    "print('The mean absolute error is:', MAE)"
   ]
  },
  {
   "cell_type": "markdown",
   "metadata": {},
   "source": [
    "## Ridge Regression"
   ]
  },
  {
   "cell_type": "code",
   "execution_count": 41,
   "metadata": {},
   "outputs": [
    {
     "name": "stdout",
     "output_type": "stream",
     "text": [
      "Ridge(alpha=1.0, copy_X=True, fit_intercept=True, max_iter=None,\n",
      "      normalize=False, random_state=None, solver='auto', tol=0.001)\n"
     ]
    }
   ],
   "source": [
    "#Build Ridge Regression Model\n",
    "\n",
    "ridge_model = Ridge()\n",
    "\n",
    "ridge_model.fit(X_train, y_train)\n",
    "\n",
    "print(ridge_model)"
   ]
  },
  {
   "cell_type": "code",
   "execution_count": 42,
   "metadata": {},
   "outputs": [],
   "source": [
    "ridge_pred = ridge_model.predict(X_test)"
   ]
  },
  {
   "cell_type": "code",
   "execution_count": 43,
   "metadata": {},
   "outputs": [
    {
     "name": "stdout",
     "output_type": "stream",
     "text": [
      "The R-squared Score of the model is : 0.21706739446888657\n",
      "The mean squared error is : 17.78820868828203\n",
      "The mean absolute error is: 3.0539818617526806\n"
     ]
    }
   ],
   "source": [
    "r2 = r2_score(y_test, ridge_pred)\n",
    "mse = mean_squared_error(y_test, ridge_pred)\n",
    "MAE = mean_absolute_error(y_test, ridge_pred)\n",
    "print('The R-squared Score of the model is :', r2)\n",
    "print('The mean squared error is :', mse)\n",
    "print('The mean absolute error is:', MAE)"
   ]
  },
  {
   "cell_type": "markdown",
   "metadata": {},
   "source": [
    "## Conclusions\n",
    "\n",
    "In figuring out which algorithm best predicts the data, it is clear that XGBoost Regressor provides the best prediction of the error in election polling. Tt has a higher R-Squared value than lasso or ridge, and it also provides the lowest mean absolute error of 0.92. As a value of prediction of error, this means that the model is on average 0.92. Also, the 'error' value that we are predicting is a percentage, so our MAE of 0.92 means that we are usually within 1% for any value. XGBoost clearly is the best predictor.\n",
    "\n",
    "This also reveals that there does not seem to be an overfitting issue, as our Lasso and Ridge Regression models performed quite poorly.\n",
    "\n",
    "In applying this to a real-life political situation, reacting to new polling data and knowing how far we expect it to be off from the actual election result can have enormous political consequences. While this is just a start and there are various socio-political factors to also take into account, using this method of regression to predict error can be a great starting point, and provides many questions about future inquiry. We were ultimately able to predict the error of a poll from its general election outcome accurately 82% of the time, and our average error on that estimate was less than one percentage point."
   ]
  }
 ],
 "metadata": {
  "kernelspec": {
   "display_name": "Python 3",
   "language": "python",
   "name": "python3"
  },
  "language_info": {
   "codemirror_mode": {
    "name": "ipython",
    "version": 3
   },
   "file_extension": ".py",
   "mimetype": "text/x-python",
   "name": "python",
   "nbconvert_exporter": "python",
   "pygments_lexer": "ipython3",
   "version": "3.7.6"
  }
 },
 "nbformat": 4,
 "nbformat_minor": 2
}
